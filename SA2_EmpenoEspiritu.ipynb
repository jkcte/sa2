{
 "cells": [
  {
   "cell_type": "code",
   "execution_count": 2,
   "metadata": {},
   "outputs": [],
   "source": [
    "import pandas as pd\n",
    "import matplotlib.pyplot as plt\n",
    "\n",
    "# Load the dataset\n",
    "df = pd.read_csv('amazon.csv', encoding='latin1')\n",
    "\n",
    "# Rename month names to English\n",
    "monthNames = {\n",
    "    'Janeiro': 'January',\n",
    "    'Fevereiro': 'February',\n",
    "    'Março': 'March',\n",
    "    'Abril': 'April',\n",
    "    'Maio': 'May',\n",
    "    'Junho': 'June',\n",
    "    'Julho': 'July',\n",
    "    'Agosto': 'August',\n",
    "    'Setembro': 'September',\n",
    "    'Outubro': 'October',\n",
    "    'Novembro': 'November',\n",
    "    'Dezembro': 'December'\n",
    "}\n",
    "df['month'] = df['month'].map(monthNames)"
   ]
  },
  {
   "cell_type": "code",
   "execution_count": 34,
   "metadata": {},
   "outputs": [
    {
     "name": "stdout",
     "output_type": "stream",
     "text": [
      "Top 10 rows:\n",
      "   year state    month  number        date\n",
      "0  1998  Acre  January     0.0  1998-01-01\n",
      "1  1999  Acre  January     0.0  1999-01-01\n",
      "2  2000  Acre  January     0.0  2000-01-01\n",
      "3  2001  Acre  January     0.0  2001-01-01\n",
      "4  2002  Acre  January     0.0  2002-01-01\n",
      "5  2003  Acre  January    10.0  2003-01-01\n",
      "6  2004  Acre  January     0.0  2004-01-01\n",
      "7  2005  Acre  January    12.0  2005-01-01\n",
      "8  2006  Acre  January     4.0  2006-01-01\n",
      "9  2007  Acre  January     0.0  2007-01-01\n"
     ]
    }
   ],
   "source": [
    "# Display top 10 rows\n",
    "print(\"Top 10 rows:\")\n",
    "print(df.head(10))"
   ]
  },
  {
   "cell_type": "code",
   "execution_count": 33,
   "metadata": {},
   "outputs": [
    {
     "name": "stdout",
     "output_type": "stream",
     "text": [
      "Last 10 rows:\n",
      "      year      state     month  number        date\n",
      "6444  2007  Tocantins  December    13.0  2007-01-01\n",
      "6445  2008  Tocantins  December     7.0  2008-01-01\n",
      "6446  2009  Tocantins  December    46.0  2009-01-01\n",
      "6447  2010  Tocantins  December    72.0  2010-01-01\n",
      "6448  2011  Tocantins  December   105.0  2011-01-01\n",
      "6449  2012  Tocantins  December   128.0  2012-01-01\n",
      "6450  2013  Tocantins  December    85.0  2013-01-01\n",
      "6451  2014  Tocantins  December   223.0  2014-01-01\n",
      "6452  2015  Tocantins  December   373.0  2015-01-01\n",
      "6453  2016  Tocantins  December   119.0  2016-01-01\n"
     ]
    }
   ],
   "source": [
    "# Check last 10 rows\n",
    "print(\"Last 10 rows:\")\n",
    "print(df.tail(10))"
   ]
  },
  {
   "cell_type": "code",
   "execution_count": 12,
   "metadata": {},
   "outputs": [
    {
     "name": "stdout",
     "output_type": "stream",
     "text": [
      "Shape of the dataset:\n",
      "(6454, 5)\n"
     ]
    }
   ],
   "source": [
    "# Find shape of the dataset\n",
    "print(\"Shape of the dataset:\")\n",
    "print(df.shape)"
   ]
  },
  {
   "cell_type": "code",
   "execution_count": 32,
   "metadata": {},
   "outputs": [
    {
     "name": "stdout",
     "output_type": "stream",
     "text": [
      "Dataset information:\n",
      "<class 'pandas.core.frame.DataFrame'>\n",
      "RangeIndex: 6454 entries, 0 to 6453\n",
      "Data columns (total 5 columns):\n",
      " #   Column  Non-Null Count  Dtype  \n",
      "---  ------  --------------  -----  \n",
      " 0   year    6454 non-null   int64  \n",
      " 1   state   6454 non-null   object \n",
      " 2   month   6454 non-null   object \n",
      " 3   number  6454 non-null   float64\n",
      " 4   date    6454 non-null   object \n",
      "dtypes: float64(1), int64(1), object(3)\n",
      "memory usage: 252.2+ KB\n",
      "None\n"
     ]
    }
   ],
   "source": [
    "# Get information about the dataset\n",
    "print(\"Dataset information:\")\n",
    "print(df.info())"
   ]
  },
  {
   "cell_type": "code",
   "execution_count": 14,
   "metadata": {},
   "outputs": [
    {
     "name": "stdout",
     "output_type": "stream",
     "text": [
      "Duplicate data dropped.\n"
     ]
    }
   ],
   "source": [
    "# Check for duplicate data and drop them\n",
    "df.drop_duplicates(inplace=True)\n",
    "print(\"Duplicate data dropped.\")"
   ]
  },
  {
   "cell_type": "code",
   "execution_count": 31,
   "metadata": {},
   "outputs": [
    {
     "name": "stdout",
     "output_type": "stream",
     "text": [
      "Null values:\n",
      "year      0\n",
      "state     0\n",
      "month     0\n",
      "number    0\n",
      "date      0\n",
      "dtype: int64\n"
     ]
    }
   ],
   "source": [
    "# Check null values in the dataset\n",
    "print(\"Null values:\")\n",
    "print(df.isnull().sum())"
   ]
  },
  {
   "cell_type": "code",
   "execution_count": 30,
   "metadata": {},
   "outputs": [
    {
     "name": "stdout",
     "output_type": "stream",
     "text": [
      "Overall statistics:\n",
      "              year       number\n",
      "count  6454.000000  6454.000000\n",
      "mean   2007.461729   108.293163\n",
      "std       5.746654   190.812242\n",
      "min    1998.000000     0.000000\n",
      "25%    2002.000000     3.000000\n",
      "50%    2007.000000    24.000000\n",
      "75%    2012.000000   113.000000\n",
      "max    2017.000000   998.000000\n"
     ]
    }
   ],
   "source": [
    "# Get overall statistics about the dataframe\n",
    "print(\"Overall statistics:\")\n",
    "print(df.describe())"
   ]
  },
  {
   "cell_type": "code",
   "execution_count": 37,
   "metadata": {},
   "outputs": [
    {
     "name": "stdout",
     "output_type": "stream",
     "text": [
      "Total number of fires registered: 698924.073\n",
      "Month with the maximum number of forest fires: September\n",
      "Year with the maximum number of forest fires: 2008\n",
      "State with the maximum number of forest fires: Amazonas\n",
      "Total number of fires reported in Amazonas: 30650.129\n"
     ]
    }
   ],
   "source": [
    "# Get the total number of fires registered\n",
    "total_fires = df['number'].sum()\n",
    "print(\"Total number of fires registered:\", total_fires)\n",
    "\n",
    "# In which month maximum number of forest fires were reported?\n",
    "maxfires_month = df.loc[df['number'].idxmax(), 'month']\n",
    "print(\"Month with the maximum number of forest fires:\", max_fires_month)\n",
    "\n",
    "# In which year maximum number of forest fires was reported?\n",
    "maxfires_year = df.loc[df['number'].idxmax(), 'year']\n",
    "print(\"Year with the maximum number of forest fires:\", max_fires_year)\n",
    "\n",
    "# In which state maximum number of forest fires was reported?\n",
    "maxfires_state = df.loc[df['number'].idxmax(), 'state']\n",
    "print(\"State with the maximum number of forest fires:\", max_fires_state)\n",
    "\n",
    "# Find total number of fires reported in Amazonas\n",
    "totalFires_Amazonas = df.loc[df['state'] == 'Amazonas', 'number'].sum()\n",
    "print(\"Total number of fires reported in Amazonas:\", totalFires_Amazonas)"
   ]
  },
  {
   "cell_type": "code",
   "execution_count": 38,
   "metadata": {},
   "outputs": [
    {
     "name": "stdout",
     "output_type": "stream",
     "text": [
      "Number of fires reported in Amazonas (year-wise):\n",
      "year\n",
      "1998     946.000\n",
      "1999    1061.000\n",
      "2000     853.000\n",
      "2001    1297.000\n",
      "2002    2852.000\n",
      "2003    1524.268\n",
      "2004    2298.207\n",
      "2005    1657.128\n",
      "2006     997.640\n",
      "2007     589.601\n",
      "2008    2717.000\n",
      "2009    1320.601\n",
      "2010    2324.508\n",
      "2011    1652.538\n",
      "2012    1110.641\n",
      "2013     905.217\n",
      "2014    2385.909\n",
      "2015    1189.994\n",
      "2016    2060.972\n",
      "2017     906.905\n",
      "Name: number, dtype: float64\n",
      "Number of fires reported in Amazonas (day-wise):\n",
      "date\n",
      "1998-01-01     946.000\n",
      "1999-01-01    1061.000\n",
      "2000-01-01     853.000\n",
      "2001-01-01    1297.000\n",
      "2002-01-01    2852.000\n",
      "2003-01-01    1524.268\n",
      "2004-01-01    2298.207\n",
      "2005-01-01    1657.128\n",
      "2006-01-01     997.640\n",
      "2007-01-01     589.601\n",
      "2008-01-01    2717.000\n",
      "2009-01-01    1320.601\n",
      "2010-01-01    2324.508\n",
      "2011-01-01    1652.538\n",
      "2012-01-01    1110.641\n",
      "2013-01-01     905.217\n",
      "2014-01-01    2385.909\n",
      "2015-01-01    1189.994\n",
      "2016-01-01    2060.972\n",
      "2017-01-01     906.905\n",
      "Name: number, dtype: float64\n"
     ]
    }
   ],
   "source": [
    "# Display number of fires reported in Amazonas (year-wise)\n",
    "firesAmazonasYear = df.loc[df['state'] == 'Amazonas'].groupby('year')['number'].sum()\n",
    "print(\"Number of fires reported in Amazonas (year-wise):\")\n",
    "print(firesAmazonasYear)\n",
    "\n",
    "# Display number of fires reported in Amazonas (day-wise)\n",
    "firesAmazonasDay = df.loc[df['state'] == 'Amazonas'].groupby('date')['number'].sum()\n",
    "print(\"Number of fires reported in Amazonas (day-wise):\")\n",
    "print(firesAmazonasDay)"
   ]
  },
  {
   "cell_type": "code",
   "execution_count": 27,
   "metadata": {},
   "outputs": [
    {
     "name": "stdout",
     "output_type": "stream",
     "text": [
      "Total number of fires reported in 2015:\n",
      "month\n",
      "April        2573.000\n",
      "August       4363.125\n",
      "December     4088.522\n",
      "February     2309.000\n",
      "January      4635.000\n",
      "July         4364.392\n",
      "June         3260.552\n",
      "March        2202.000\n",
      "May          2384.000\n",
      "November     4034.518\n",
      "October      4499.525\n",
      "September    2494.658\n",
      "Name: number, dtype: float64\n"
     ]
    },
    {
     "data": {
      "image/png": "[encoded data removed]",
      "text/plain": [
       "<Figure size 640x480 with 1 Axes>"
      ]
     },
     "metadata": {},
     "output_type": "display_data"
    }
   ],
   "source": [
    "# Find total number of fires reported in 2015 and visualize data based on each month\n",
    "fires_2015 = df.loc[df['year'] == 2015]\n",
    "fires_2015_month = fires_2015.groupby('month')['number'].sum()\n",
    "print(\"Total number of fires reported in 2015:\")\n",
    "print(fires_2015_month)\n",
    "fires_2015_month.plot(kind='bar')\n",
    "plt.xlabel('Month')\n",
    "plt.ylabel('Number of Fires')\n",
    "plt.title('Number of Fires Reported in Amazonas in 2015')\n",
    "plt.show()"
   ]
  },
  {
   "cell_type": "code",
   "execution_count": 26,
   "metadata": {},
   "outputs": [
    {
     "name": "stdout",
     "output_type": "stream",
     "text": [
      "Average number of fires reported (state-wise):\n",
      "state\n",
      "Sao Paulo           213.896226\n",
      "Mato Grosso         201.351523\n",
      "Bahia               187.222703\n",
      "Piau                158.174674\n",
      "Goias               157.721841\n",
      "Minas Gerais        156.800243\n",
      "Tocantins           141.037176\n",
      "Amazonas            128.243218\n",
      "Ceara               127.314071\n",
      "Paraiba             109.698573\n",
      "Maranhao            105.142808\n",
      "Pará                102.561272\n",
      "Pernambuco          102.502092\n",
      "Roraima             102.029598\n",
      "Santa Catarina      101.924067\n",
      "Amapa                91.345506\n",
      "Rondonia             84.876272\n",
      "Acre                 77.255356\n",
      "Rio                  62.985865\n",
      "Espirito Santo       27.389121\n",
      "Alagoas              19.350000\n",
      "Distrito Federal     14.899582\n",
      "Sergipe              13.543933\n",
      "Name: number, dtype: float64\n",
      "States where fires were reported in 'dec' month:\n",
      "['Acre' 'Alagoas' 'Amapa' 'Amazonas' 'Bahia' 'Ceara' 'Distrito Federal'\n",
      " 'Espirito Santo' 'Goias' 'Maranhao' 'Mato Grosso' 'Minas Gerais' 'Pará'\n",
      " 'Paraiba' 'Pernambuco' 'Piau' 'Rio' 'Rondonia' 'Roraima' 'Santa Catarina'\n",
      " 'Sao Paulo' 'Sergipe' 'Tocantins']\n"
     ]
    }
   ],
   "source": [
    "# Find average number of fires reported from highest to lowest (state-wise)\n",
    "avg_fires_state = df.groupby('state')['number'].mean().sort_values(ascending=False)\n",
    "print(\"Average number of fires reported (state-wise):\")\n",
    "print(avg_fires_state)\n",
    "\n",
    "#Find the state names where fires were reported in 'dec' month\n",
    "dec_fires_states = df.loc[df['month'] == 'December', 'state'].unique()\n",
    "print(\"States where fires were reported in 'dec' month:\")\n",
    "print(dec_fires_states)"
   ]
  },
  {
   "cell_type": "code",
   "execution_count": 3,
   "metadata": {},
   "outputs": [],
   "source": [
    "# Read CSV files\n",
    "score_df = pd.read_csv('genome-scores.csv')\n",
    "genomeTags_df = pd.read_csv('genome-tags.csv')\n",
    "link_df = pd.read_csv('links.csv')\n",
    "movies_df = pd.read_csv('movies.csv')\n",
    "ratings_df = pd.read_csv('ratings.csv')\n",
    "tags_df = pd.read_csv('tags.csv')"
   ]
  },
  {
   "cell_type": "code",
   "execution_count": 4,
   "metadata": {},
   "outputs": [
    {
     "name": "stdout",
     "output_type": "stream",
     "text": [
      "Number of movies released each year:\n",
      "1874       1\n",
      "1878       1\n",
      "1880       1\n",
      "1883       1\n",
      "1887       1\n",
      "1888       4\n",
      "1890       5\n",
      "1891       6\n",
      "1892       3\n",
      "1894      22\n",
      "1895      15\n",
      "1896      22\n",
      "1897      13\n",
      "1898      14\n",
      "1899       8\n",
      "1900      22\n",
      "1901      12\n",
      "1902       6\n",
      "1903      26\n",
      "1904      11\n",
      "1905      10\n",
      "1906      17\n",
      "1907      18\n",
      "1908      17\n",
      "1909      16\n",
      "1910      11\n",
      "1911      11\n",
      "1912      19\n",
      "1913      15\n",
      "1914      42\n",
      "        ... \n",
      "1990     538\n",
      "1991     524\n",
      "1992     563\n",
      "1993     571\n",
      "1994     645\n",
      "1995     705\n",
      "1996     703\n",
      "1997     792\n",
      "1998     803\n",
      "1999     812\n",
      "2000     929\n",
      "2001     971\n",
      "2002    1024\n",
      "2003    1028\n",
      "2004    1172\n",
      "2005    1255\n",
      "2006    1446\n",
      "2007    1498\n",
      "2008    1632\n",
      "2009    1724\n",
      "2010    1691\n",
      "2011    1838\n",
      "2012    1978\n",
      "2013    2173\n",
      "2014    2406\n",
      "2015    2513\n",
      "2016    2488\n",
      "2017    2374\n",
      "2018    2034\n",
      "2019     994\n",
      "Name: year, Length: 135, dtype: int64\n",
      "\n",
      "Percentage change over time:\n",
      "1874           NaN\n",
      "1878      0.000000\n",
      "1880      0.000000\n",
      "1883      0.000000\n",
      "1887      0.000000\n",
      "1888    300.000000\n",
      "1890     25.000000\n",
      "1891     20.000000\n",
      "1892    -50.000000\n",
      "1894    633.333333\n",
      "1895    -31.818182\n",
      "1896     46.666667\n",
      "1897    -40.909091\n",
      "1898      7.692308\n",
      "1899    -42.857143\n",
      "1900    175.000000\n",
      "1901    -45.454545\n",
      "1902    -50.000000\n",
      "1903    333.333333\n",
      "1904    -57.692308\n",
      "1905     -9.090909\n",
      "1906     70.000000\n",
      "1907      5.882353\n",
      "1908     -5.555556\n",
      "1909     -5.882353\n",
      "1910    -31.250000\n",
      "1911      0.000000\n",
      "1912     72.727273\n",
      "1913    -21.052632\n",
      "1914    180.000000\n",
      "           ...    \n",
      "1990    -11.658456\n",
      "1991     -2.602230\n",
      "1992      7.442748\n",
      "1993      1.420959\n",
      "1994     12.959720\n",
      "1995      9.302326\n",
      "1996     -0.283688\n",
      "1997     12.660028\n",
      "1998      1.388889\n",
      "1999      1.120797\n",
      "2000     14.408867\n",
      "2001      4.520990\n",
      "2002      5.458290\n",
      "2003      0.390625\n",
      "2004     14.007782\n",
      "2005      7.081911\n",
      "2006     15.219124\n",
      "2007      3.596127\n",
      "2008      8.945260\n",
      "2009      5.637255\n",
      "2010     -1.914153\n",
      "2011      8.693081\n",
      "2012      7.616975\n",
      "2013      9.858443\n",
      "2014     10.722503\n",
      "2015      4.447215\n",
      "2016     -0.994827\n",
      "2017     -4.581994\n",
      "2018    -14.321820\n",
      "2019    -51.130777\n",
      "Name: year, Length: 135, dtype: float64\n"
     ]
    },
    {
     "data": {
      "image/png": "[encoded data removed]",
      "text/plain": [
       "<Figure size 432x288 with 1 Axes>"
      ]
     },
     "metadata": {
      "needs_background": "light"
     },
     "output_type": "display_data"
    },
    {
     "data": {
      "image/png": "[encoded data removed]",
      "text/plain": [
       "<Figure size 432x288 with 1 Axes>"
      ]
     },
     "metadata": {
      "needs_background": "light"
     },
     "output_type": "display_data"
    }
   ],
   "source": [
    "# Extract the year from movie titles\n",
    "movies_df['year'] = movies_df['title'].str.extract(r'\\((\\d{4})\\)')\n",
    "\n",
    "# Count the number of movies released in each year\n",
    "movie_counts = movies_df['year'].value_counts().sort_index()\n",
    "\n",
    "# Calculate the percentage change over time\n",
    "percentage_change = movie_counts.pct_change() * 100\n",
    "\n",
    "# Display the number of movies released each year\n",
    "print(\"Number of movies released each year:\")\n",
    "print(movie_counts)\n",
    "\n",
    "# Display the percentage change over time\n",
    "print(\"\\nPercentage change over time:\")\n",
    "print(percentage_change)\n",
    "\n",
    "# Visualize the results\n",
    "plt.plot(movie_counts.index, movie_counts.values)\n",
    "plt.xlabel('Year')\n",
    "plt.ylabel('Number of Movies Released')\n",
    "plt.title('Number of Movies Released by Year')\n",
    "plt.xticks(rotation=90)\n",
    "plt.show()\n",
    "\n",
    "plt.plot(movie_counts.index, percentage_change.values)\n",
    "plt.xlabel('Year')\n",
    "plt.ylabel('Percentage Change')\n",
    "plt.title('Percentage Change of Movies Released by Year')\n",
    "plt.xticks(rotation=90)\n",
    "plt.show()"
   ]
  },
  {
   "cell_type": "code",
   "execution_count": 6,
   "metadata": {},
   "outputs": [
    {
     "ename": "ValueError",
     "evalue": "Grouper for 'genre_0' not 1-dimensional",
     "output_type": "error",
     "traceback": [
      "\u001b[1;31m---------------------------------------------------------------------------\u001b[0m",
      "\u001b[1;31mValueError\u001b[0m                                Traceback (most recent call last)",
      "\u001b[1;32m<ipython-input-6-a64cfe6f2983>\u001b[0m in \u001b[0;36m<module>\u001b[1;34m()\u001b[0m\n\u001b[0;32m     11\u001b[0m \u001b[1;31m# Calculate the average rating for each genre\u001b[0m\u001b[1;33m\u001b[0m\u001b[1;33m\u001b[0m\u001b[0m\n\u001b[0;32m     12\u001b[0m \u001b[0mgenre_columns\u001b[0m \u001b[1;33m=\u001b[0m \u001b[1;33m[\u001b[0m\u001b[0mcol\u001b[0m \u001b[1;32mfor\u001b[0m \u001b[0mcol\u001b[0m \u001b[1;32min\u001b[0m \u001b[0mmerged_df\u001b[0m\u001b[1;33m.\u001b[0m\u001b[0mcolumns\u001b[0m \u001b[1;32mif\u001b[0m \u001b[0mcol\u001b[0m\u001b[1;33m.\u001b[0m\u001b[0mstartswith\u001b[0m\u001b[1;33m(\u001b[0m\u001b[1;34m'genre_'\u001b[0m\u001b[1;33m)\u001b[0m\u001b[1;33m]\u001b[0m\u001b[1;33m\u001b[0m\u001b[0m\n\u001b[1;32m---> 13\u001b[1;33m \u001b[0mgenre_ratings\u001b[0m \u001b[1;33m=\u001b[0m \u001b[0mmerged_df\u001b[0m\u001b[1;33m.\u001b[0m\u001b[0mgroupby\u001b[0m\u001b[1;33m(\u001b[0m\u001b[0mgenre_columns\u001b[0m\u001b[1;33m)\u001b[0m\u001b[1;33m[\u001b[0m\u001b[1;34m'rating'\u001b[0m\u001b[1;33m]\u001b[0m\u001b[1;33m.\u001b[0m\u001b[0mmean\u001b[0m\u001b[1;33m(\u001b[0m\u001b[1;33m)\u001b[0m\u001b[1;33m.\u001b[0m\u001b[0msort_values\u001b[0m\u001b[1;33m(\u001b[0m\u001b[0mascending\u001b[0m\u001b[1;33m=\u001b[0m\u001b[1;32mFalse\u001b[0m\u001b[1;33m)\u001b[0m\u001b[1;33m\u001b[0m\u001b[0m\n\u001b[0m\u001b[0;32m     14\u001b[0m \u001b[1;33m\u001b[0m\u001b[0m\n\u001b[0;32m     15\u001b[0m \u001b[1;31m# Display the most popular genre based on ratings\u001b[0m\u001b[1;33m\u001b[0m\u001b[1;33m\u001b[0m\u001b[0m\n",
      "\u001b[1;32mC:\\ProgramData\\Anaconda3\\lib\\site-packages\\pandas\\core\\generic.py\u001b[0m in \u001b[0;36mgroupby\u001b[1;34m(self, by, axis, level, as_index, sort, group_keys, squeeze, observed, **kwargs)\u001b[0m\n\u001b[0;32m   6663\u001b[0m         return groupby(self, by=by, axis=axis, level=level, as_index=as_index,\n\u001b[0;32m   6664\u001b[0m                        \u001b[0msort\u001b[0m\u001b[1;33m=\u001b[0m\u001b[0msort\u001b[0m\u001b[1;33m,\u001b[0m \u001b[0mgroup_keys\u001b[0m\u001b[1;33m=\u001b[0m\u001b[0mgroup_keys\u001b[0m\u001b[1;33m,\u001b[0m \u001b[0msqueeze\u001b[0m\u001b[1;33m=\u001b[0m\u001b[0msqueeze\u001b[0m\u001b[1;33m,\u001b[0m\u001b[1;33m\u001b[0m\u001b[0m\n\u001b[1;32m-> 6665\u001b[1;33m                        observed=observed, **kwargs)\n\u001b[0m\u001b[0;32m   6666\u001b[0m \u001b[1;33m\u001b[0m\u001b[0m\n\u001b[0;32m   6667\u001b[0m     def asfreq(self, freq, method=None, how=None, normalize=False,\n",
      "\u001b[1;32mC:\\ProgramData\\Anaconda3\\lib\\site-packages\\pandas\\core\\groupby\\groupby.py\u001b[0m in \u001b[0;36mgroupby\u001b[1;34m(obj, by, **kwds)\u001b[0m\n\u001b[0;32m   2150\u001b[0m         \u001b[1;32mraise\u001b[0m \u001b[0mTypeError\u001b[0m\u001b[1;33m(\u001b[0m\u001b[1;34m'invalid type: %s'\u001b[0m \u001b[1;33m%\u001b[0m \u001b[0mtype\u001b[0m\u001b[1;33m(\u001b[0m\u001b[0mobj\u001b[0m\u001b[1;33m)\u001b[0m\u001b[1;33m)\u001b[0m\u001b[1;33m\u001b[0m\u001b[0m\n\u001b[0;32m   2151\u001b[0m \u001b[1;33m\u001b[0m\u001b[0m\n\u001b[1;32m-> 2152\u001b[1;33m     \u001b[1;32mreturn\u001b[0m \u001b[0mklass\u001b[0m\u001b[1;33m(\u001b[0m\u001b[0mobj\u001b[0m\u001b[1;33m,\u001b[0m \u001b[0mby\u001b[0m\u001b[1;33m,\u001b[0m \u001b[1;33m**\u001b[0m\u001b[0mkwds\u001b[0m\u001b[1;33m)\u001b[0m\u001b[1;33m\u001b[0m\u001b[0m\n\u001b[0m\u001b[0;32m   2153\u001b[0m \u001b[1;33m\u001b[0m\u001b[0m\n\u001b[0;32m   2154\u001b[0m \u001b[1;33m\u001b[0m\u001b[0m\n",
      "\u001b[1;32mC:\\ProgramData\\Anaconda3\\lib\\site-packages\\pandas\\core\\groupby\\groupby.py\u001b[0m in \u001b[0;36m__init__\u001b[1;34m(self, obj, keys, axis, level, grouper, exclusions, selection, as_index, sort, group_keys, squeeze, observed, **kwargs)\u001b[0m\n\u001b[0;32m    597\u001b[0m                                                     \u001b[0msort\u001b[0m\u001b[1;33m=\u001b[0m\u001b[0msort\u001b[0m\u001b[1;33m,\u001b[0m\u001b[1;33m\u001b[0m\u001b[0m\n\u001b[0;32m    598\u001b[0m                                                     \u001b[0mobserved\u001b[0m\u001b[1;33m=\u001b[0m\u001b[0mobserved\u001b[0m\u001b[1;33m,\u001b[0m\u001b[1;33m\u001b[0m\u001b[0m\n\u001b[1;32m--> 599\u001b[1;33m                                                     mutated=self.mutated)\n\u001b[0m\u001b[0;32m    600\u001b[0m \u001b[1;33m\u001b[0m\u001b[0m\n\u001b[0;32m    601\u001b[0m         \u001b[0mself\u001b[0m\u001b[1;33m.\u001b[0m\u001b[0mobj\u001b[0m \u001b[1;33m=\u001b[0m \u001b[0mobj\u001b[0m\u001b[1;33m\u001b[0m\u001b[0m\n",
      "\u001b[1;32mC:\\ProgramData\\Anaconda3\\lib\\site-packages\\pandas\\core\\groupby\\groupby.py\u001b[0m in \u001b[0;36m_get_grouper\u001b[1;34m(obj, key, axis, level, sort, observed, mutated, validate)\u001b[0m\n\u001b[0;32m   3313\u001b[0m                         \u001b[0mobserved\u001b[0m\u001b[1;33m=\u001b[0m\u001b[0mobserved\u001b[0m\u001b[1;33m,\u001b[0m\u001b[1;33m\u001b[0m\u001b[0m\n\u001b[0;32m   3314\u001b[0m                         in_axis=in_axis) \\\n\u001b[1;32m-> 3315\u001b[1;33m             \u001b[1;32mif\u001b[0m \u001b[1;32mnot\u001b[0m \u001b[0misinstance\u001b[0m\u001b[1;33m(\u001b[0m\u001b[0mgpr\u001b[0m\u001b[1;33m,\u001b[0m \u001b[0mGrouping\u001b[0m\u001b[1;33m)\u001b[0m \u001b[1;32melse\u001b[0m \u001b[0mgpr\u001b[0m\u001b[1;33m\u001b[0m\u001b[0m\n\u001b[0m\u001b[0;32m   3316\u001b[0m \u001b[1;33m\u001b[0m\u001b[0m\n\u001b[0;32m   3317\u001b[0m         \u001b[0mgroupings\u001b[0m\u001b[1;33m.\u001b[0m\u001b[0mappend\u001b[0m\u001b[1;33m(\u001b[0m\u001b[0mping\u001b[0m\u001b[1;33m)\u001b[0m\u001b[1;33m\u001b[0m\u001b[0m\n",
      "\u001b[1;32mC:\\ProgramData\\Anaconda3\\lib\\site-packages\\pandas\\core\\groupby\\groupby.py\u001b[0m in \u001b[0;36m__init__\u001b[1;34m(self, index, grouper, obj, name, level, sort, observed, in_axis)\u001b[0m\n\u001b[0;32m   3023\u001b[0m                 \u001b[1;32mif\u001b[0m \u001b[0mgetattr\u001b[0m\u001b[1;33m(\u001b[0m\u001b[0mself\u001b[0m\u001b[1;33m.\u001b[0m\u001b[0mgrouper\u001b[0m\u001b[1;33m,\u001b[0m \u001b[1;34m'ndim'\u001b[0m\u001b[1;33m,\u001b[0m \u001b[1;36m1\u001b[0m\u001b[1;33m)\u001b[0m \u001b[1;33m!=\u001b[0m \u001b[1;36m1\u001b[0m\u001b[1;33m:\u001b[0m\u001b[1;33m\u001b[0m\u001b[0m\n\u001b[0;32m   3024\u001b[0m                     \u001b[0mt\u001b[0m \u001b[1;33m=\u001b[0m \u001b[0mself\u001b[0m\u001b[1;33m.\u001b[0m\u001b[0mname\u001b[0m \u001b[1;32mor\u001b[0m \u001b[0mstr\u001b[0m\u001b[1;33m(\u001b[0m\u001b[0mtype\u001b[0m\u001b[1;33m(\u001b[0m\u001b[0mself\u001b[0m\u001b[1;33m.\u001b[0m\u001b[0mgrouper\u001b[0m\u001b[1;33m)\u001b[0m\u001b[1;33m)\u001b[0m\u001b[1;33m\u001b[0m\u001b[0m\n\u001b[1;32m-> 3025\u001b[1;33m                     \u001b[1;32mraise\u001b[0m \u001b[0mValueError\u001b[0m\u001b[1;33m(\u001b[0m\u001b[1;34m\"Grouper for '%s' not 1-dimensional\"\u001b[0m \u001b[1;33m%\u001b[0m \u001b[0mt\u001b[0m\u001b[1;33m)\u001b[0m\u001b[1;33m\u001b[0m\u001b[0m\n\u001b[0m\u001b[0;32m   3026\u001b[0m                 \u001b[0mself\u001b[0m\u001b[1;33m.\u001b[0m\u001b[0mgrouper\u001b[0m \u001b[1;33m=\u001b[0m \u001b[0mself\u001b[0m\u001b[1;33m.\u001b[0m\u001b[0mindex\u001b[0m\u001b[1;33m.\u001b[0m\u001b[0mmap\u001b[0m\u001b[1;33m(\u001b[0m\u001b[0mself\u001b[0m\u001b[1;33m.\u001b[0m\u001b[0mgrouper\u001b[0m\u001b[1;33m)\u001b[0m\u001b[1;33m\u001b[0m\u001b[0m\n\u001b[0;32m   3027\u001b[0m                 if not (hasattr(self.grouper, \"__len__\") and\n",
      "\u001b[1;31mValueError\u001b[0m: Grouper for 'genre_0' not 1-dimensional"
     ]
    }
   ],
   "source": [
    "# Split the genres column by '|' and create a new DataFrame\n",
    "genres_df = movies_df['genres'].str.split('|', expand=True)\n",
    "genres_df.columns = ['genre_' + str(i) for i in range(genres_df.shape[1])]\n",
    "\n",
    "# Concatenate the genres DataFrame with the movies DataFrame\n",
    "movies_df = pd.concat([movies_df, genres_df], axis=1)\n",
    "\n",
    "# Merge movies_df with ratings_df\n",
    "merged_df = pd.merge(movies_df, ratings_df, on='movieId')\n",
    "\n",
    "# Calculate the average rating for each genre\n",
    "genre_columns = [col for col in merged_df.columns if col.startswith('genre_')]\n",
    "genre_ratings = merged_df.groupby(genre_columns)['rating'].mean().sort_values(ascending=False)\n",
    "\n",
    "# Display the most popular genre based on ratings\n",
    "most_popular_genre = genre_ratings.index[0]\n",
    "print(\"The most popular genre based on ratings is:\", most_popular_genre)"
   ]
  },
  {
   "cell_type": "code",
   "execution_count": null,
   "metadata": {},
   "outputs": [],
   "source": []
  }
 ],
 "metadata": {
  "kernelspec": {
   "display_name": "Python 3",
   "language": "python",
   "name": "python3"
  },
  "language_info": {
   "codemirror_mode": {
    "name": "ipython",
    "version": 3
   },
   "file_extension": ".py",
   "mimetype": "text/x-python",
   "name": "python",
   "nbconvert_exporter": "python",
   "pygments_lexer": "ipython3",
   "version": "3.7.0"
  }
 },
 "nbformat": 4,
 "nbformat_minor": 5
}
